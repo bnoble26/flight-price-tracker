{
 "cells": [
  {
   "cell_type": "code",
   "execution_count": 2,
   "id": "3547f68e-3692-42b2-9b27-6ddf09d85145",
   "metadata": {
    "scrolled": true
   },
   "outputs": [],
   "source": [
    "import pandas as pd\n",
    "import numpy as np\n",
    "import matplotlib.pyplot as plt\n",
    "import seaborn as sns\n",
    "\n",
    "# Enable plots to show in the notebook\n",
    "%matplotlib inline"
   ]
  },
  {
   "cell_type": "code",
   "execution_count": 3,
   "id": "602185c0-438e-4842-937b-7fe41f81ba07",
   "metadata": {},
   "outputs": [
    {
     "name": "stdout",
     "output_type": "stream",
     "text": [
      "Seaborn is working!\n"
     ]
    }
   ],
   "source": [
    "import seaborn as sns\n",
    "print(\"Seaborn is working!\")"
   ]
  },
  {
   "cell_type": "code",
   "execution_count": 4,
   "id": "d5b5afe1-11de-4769-9759-415065a4784c",
   "metadata": {},
   "outputs": [
    {
     "data": {
      "text/html": [
       "<div>\n",
       "<style scoped>\n",
       "    .dataframe tbody tr th:only-of-type {\n",
       "        vertical-align: middle;\n",
       "    }\n",
       "\n",
       "    .dataframe tbody tr th {\n",
       "        vertical-align: top;\n",
       "    }\n",
       "\n",
       "    .dataframe thead th {\n",
       "        text-align: right;\n",
       "    }\n",
       "</style>\n",
       "<table border=\"1\" class=\"dataframe\">\n",
       "  <thead>\n",
       "    <tr style=\"text-align: right;\">\n",
       "      <th></th>\n",
       "      <th>Airline</th>\n",
       "      <th>Source</th>\n",
       "      <th>Destination</th>\n",
       "      <th>Date_of_Journey</th>\n",
       "      <th>Dep_Time</th>\n",
       "      <th>Arrival_Time</th>\n",
       "      <th>Duration</th>\n",
       "      <th>Total_Stops</th>\n",
       "      <th>Price</th>\n",
       "    </tr>\n",
       "  </thead>\n",
       "  <tbody>\n",
       "    <tr>\n",
       "      <th>0</th>\n",
       "      <td>IndiGo</td>\n",
       "      <td>Delhi</td>\n",
       "      <td>Cochin</td>\n",
       "      <td>2024-06-01</td>\n",
       "      <td>06:00</td>\n",
       "      <td>08:00</td>\n",
       "      <td>2h</td>\n",
       "      <td>non-stop</td>\n",
       "      <td>5000</td>\n",
       "    </tr>\n",
       "    <tr>\n",
       "      <th>1</th>\n",
       "      <td>Air India</td>\n",
       "      <td>Kolkata</td>\n",
       "      <td>Delhi</td>\n",
       "      <td>2024-06-03</td>\n",
       "      <td>09:00</td>\n",
       "      <td>11:30</td>\n",
       "      <td>2h 30m</td>\n",
       "      <td>1 stop</td>\n",
       "      <td>6000</td>\n",
       "    </tr>\n",
       "    <tr>\n",
       "      <th>2</th>\n",
       "      <td>SpiceJet</td>\n",
       "      <td>Mumbai</td>\n",
       "      <td>Hyderabad</td>\n",
       "      <td>2024-06-05</td>\n",
       "      <td>12:00</td>\n",
       "      <td>14:30</td>\n",
       "      <td>2h 30m</td>\n",
       "      <td>non-stop</td>\n",
       "      <td>7000</td>\n",
       "    </tr>\n",
       "    <tr>\n",
       "      <th>3</th>\n",
       "      <td>Vistara</td>\n",
       "      <td>Chennai</td>\n",
       "      <td>Kolkata</td>\n",
       "      <td>2024-06-07</td>\n",
       "      <td>15:00</td>\n",
       "      <td>17:30</td>\n",
       "      <td>2h 30m</td>\n",
       "      <td>1 stop</td>\n",
       "      <td>6500</td>\n",
       "    </tr>\n",
       "    <tr>\n",
       "      <th>4</th>\n",
       "      <td>GoAir</td>\n",
       "      <td>Bangalore</td>\n",
       "      <td>Delhi</td>\n",
       "      <td>2024-06-09</td>\n",
       "      <td>18:00</td>\n",
       "      <td>20:30</td>\n",
       "      <td>2h 30m</td>\n",
       "      <td>2 stops</td>\n",
       "      <td>6200</td>\n",
       "    </tr>\n",
       "  </tbody>\n",
       "</table>\n",
       "</div>"
      ],
      "text/plain": [
       "     Airline     Source Destination Date_of_Journey Dep_Time Arrival_Time  \\\n",
       "0     IndiGo      Delhi      Cochin      2024-06-01    06:00        08:00   \n",
       "1  Air India    Kolkata       Delhi      2024-06-03    09:00        11:30   \n",
       "2   SpiceJet     Mumbai   Hyderabad      2024-06-05    12:00        14:30   \n",
       "3    Vistara    Chennai     Kolkata      2024-06-07    15:00        17:30   \n",
       "4      GoAir  Bangalore       Delhi      2024-06-09    18:00        20:30   \n",
       "\n",
       "  Duration Total_Stops  Price  \n",
       "0       2h    non-stop   5000  \n",
       "1   2h 30m      1 stop   6000  \n",
       "2   2h 30m    non-stop   7000  \n",
       "3   2h 30m      1 stop   6500  \n",
       "4   2h 30m     2 stops   6200  "
      ]
     },
     "execution_count": 4,
     "metadata": {},
     "output_type": "execute_result"
    }
   ],
   "source": [
    "import pandas as pd\n",
    "\n",
    "# Load the dataset\n",
    "df = pd.read_csv('sample_flight_data.csv')\n",
    "\n",
    "# Preview the dataset\n",
    "df.head()\n"
   ]
  },
  {
   "cell_type": "code",
   "execution_count": 5,
   "id": "104c5752-25b0-4bc1-960f-124e68b4bf4f",
   "metadata": {},
   "outputs": [
    {
     "name": "stdout",
     "output_type": "stream",
     "text": [
      "Shape of dataset: (5, 9)\n",
      "\n",
      "Column names:\n",
      " Index(['Airline', 'Source', 'Destination', 'Date_of_Journey', 'Dep_Time',\n",
      "       'Arrival_Time', 'Duration', 'Total_Stops', 'Price'],\n",
      "      dtype='object')\n",
      "\n",
      "Data types:\n",
      " Airline            object\n",
      "Source             object\n",
      "Destination        object\n",
      "Date_of_Journey    object\n",
      "Dep_Time           object\n",
      "Arrival_Time       object\n",
      "Duration           object\n",
      "Total_Stops        object\n",
      "Price               int64\n",
      "dtype: object\n",
      "\n",
      "Missing values:\n",
      " Airline            0\n",
      "Source             0\n",
      "Destination        0\n",
      "Date_of_Journey    0\n",
      "Dep_Time           0\n",
      "Arrival_Time       0\n",
      "Duration           0\n",
      "Total_Stops        0\n",
      "Price              0\n",
      "dtype: int64\n"
     ]
    }
   ],
   "source": [
    "# Dataset overview\n",
    "print(\"Shape of dataset:\", df.shape)\n",
    "print(\"\\nColumn names:\\n\", df.columns)\n",
    "print(\"\\nData types:\\n\", df.dtypes)\n",
    "print(\"\\nMissing values:\\n\", df.isnull().sum())\n"
   ]
  },
  {
   "cell_type": "code",
   "execution_count": 6,
   "id": "a0300d94-edff-4720-a7bc-ecb602455561",
   "metadata": {},
   "outputs": [
    {
     "data": {
      "text/html": [
       "<div>\n",
       "<style scoped>\n",
       "    .dataframe tbody tr th:only-of-type {\n",
       "        vertical-align: middle;\n",
       "    }\n",
       "\n",
       "    .dataframe tbody tr th {\n",
       "        vertical-align: top;\n",
       "    }\n",
       "\n",
       "    .dataframe thead th {\n",
       "        text-align: right;\n",
       "    }\n",
       "</style>\n",
       "<table border=\"1\" class=\"dataframe\">\n",
       "  <thead>\n",
       "    <tr style=\"text-align: right;\">\n",
       "      <th></th>\n",
       "      <th>Unnamed: 0</th>\n",
       "      <th>airline</th>\n",
       "      <th>flight</th>\n",
       "      <th>source_city</th>\n",
       "      <th>departure_time</th>\n",
       "      <th>stops</th>\n",
       "      <th>arrival_time</th>\n",
       "      <th>destination_city</th>\n",
       "      <th>class</th>\n",
       "      <th>duration</th>\n",
       "      <th>days_left</th>\n",
       "      <th>price</th>\n",
       "    </tr>\n",
       "  </thead>\n",
       "  <tbody>\n",
       "    <tr>\n",
       "      <th>0</th>\n",
       "      <td>0</td>\n",
       "      <td>SpiceJet</td>\n",
       "      <td>SG-8709</td>\n",
       "      <td>Delhi</td>\n",
       "      <td>Evening</td>\n",
       "      <td>zero</td>\n",
       "      <td>Night</td>\n",
       "      <td>Mumbai</td>\n",
       "      <td>Economy</td>\n",
       "      <td>2.17</td>\n",
       "      <td>1.0</td>\n",
       "      <td>5953.0</td>\n",
       "    </tr>\n",
       "    <tr>\n",
       "      <th>1</th>\n",
       "      <td>1</td>\n",
       "      <td>SpiceJet</td>\n",
       "      <td>SG-8157</td>\n",
       "      <td>Delhi</td>\n",
       "      <td>Early_Morning</td>\n",
       "      <td>zero</td>\n",
       "      <td>Morning</td>\n",
       "      <td>Mumbai</td>\n",
       "      <td>Economy</td>\n",
       "      <td>2.33</td>\n",
       "      <td>1.0</td>\n",
       "      <td>5953.0</td>\n",
       "    </tr>\n",
       "    <tr>\n",
       "      <th>2</th>\n",
       "      <td>2</td>\n",
       "      <td>AirAsia</td>\n",
       "      <td>I5-764</td>\n",
       "      <td>Delhi</td>\n",
       "      <td>Early_Morning</td>\n",
       "      <td>zero</td>\n",
       "      <td>Early_Morning</td>\n",
       "      <td>Mumbai</td>\n",
       "      <td>Economy</td>\n",
       "      <td>2.17</td>\n",
       "      <td>1.0</td>\n",
       "      <td>5956.0</td>\n",
       "    </tr>\n",
       "    <tr>\n",
       "      <th>3</th>\n",
       "      <td>3</td>\n",
       "      <td>Vistara</td>\n",
       "      <td>UK-995</td>\n",
       "      <td>Delhi</td>\n",
       "      <td>Morning</td>\n",
       "      <td>zero</td>\n",
       "      <td>Afternoon</td>\n",
       "      <td>Mumbai</td>\n",
       "      <td>Economy</td>\n",
       "      <td>2.25</td>\n",
       "      <td>1.0</td>\n",
       "      <td>5955.0</td>\n",
       "    </tr>\n",
       "    <tr>\n",
       "      <th>4</th>\n",
       "      <td>4</td>\n",
       "      <td>Vistara</td>\n",
       "      <td>UK-963</td>\n",
       "      <td>Delhi</td>\n",
       "      <td>Morning</td>\n",
       "      <td>zero</td>\n",
       "      <td>Morning</td>\n",
       "      <td>Mumbai</td>\n",
       "      <td>Economy</td>\n",
       "      <td>2.33</td>\n",
       "      <td>1.0</td>\n",
       "      <td>5955.0</td>\n",
       "    </tr>\n",
       "  </tbody>\n",
       "</table>\n",
       "</div>"
      ],
      "text/plain": [
       "   Unnamed: 0   airline   flight source_city departure_time stops  \\\n",
       "0           0  SpiceJet  SG-8709       Delhi        Evening  zero   \n",
       "1           1  SpiceJet  SG-8157       Delhi  Early_Morning  zero   \n",
       "2           2   AirAsia   I5-764       Delhi  Early_Morning  zero   \n",
       "3           3   Vistara   UK-995       Delhi        Morning  zero   \n",
       "4           4   Vistara   UK-963       Delhi        Morning  zero   \n",
       "\n",
       "    arrival_time destination_city    class  duration  days_left   price  \n",
       "0          Night           Mumbai  Economy      2.17        1.0  5953.0  \n",
       "1        Morning           Mumbai  Economy      2.33        1.0  5953.0  \n",
       "2  Early_Morning           Mumbai  Economy      2.17        1.0  5956.0  \n",
       "3      Afternoon           Mumbai  Economy      2.25        1.0  5955.0  \n",
       "4        Morning           Mumbai  Economy      2.33        1.0  5955.0  "
      ]
     },
     "execution_count": 6,
     "metadata": {},
     "output_type": "execute_result"
    }
   ],
   "source": [
    "import pandas as pd\n",
    "\n",
    "# Load the dataset\n",
    "df = pd.read_csv('Clean_Dataset.csv')\n",
    "\n",
    "# Show the first few rows of the dataset\n",
    "df.head()\n"
   ]
  },
  {
   "cell_type": "code",
   "execution_count": 7,
   "id": "38ef9d68-d210-4255-a14c-a4d9431fc1c5",
   "metadata": {},
   "outputs": [
    {
     "name": "stdout",
     "output_type": "stream",
     "text": [
      "Index(['Unnamed: 0', 'airline', 'flight', 'source_city', 'departure_time',\n",
      "       'stops', 'arrival_time', 'destination_city', 'class', 'duration',\n",
      "       'days_left', 'price'],\n",
      "      dtype='object')\n"
     ]
    }
   ],
   "source": [
    "print(df.columns)\n"
   ]
  },
  {
   "cell_type": "code",
   "execution_count": 8,
   "id": "7521ac3b-f040-4658-823b-c84cbce7ddf3",
   "metadata": {},
   "outputs": [
    {
     "name": "stdout",
     "output_type": "stream",
     "text": [
      "Index(['Unnamed: 0', 'airline', 'flight', 'source_city', 'departure_time',\n",
      "       'stops', 'arrival_time', 'destination_city', 'class', 'duration',\n",
      "       'days_left', 'price'],\n",
      "      dtype='object')\n"
     ]
    }
   ],
   "source": [
    "# Clean the column names by stripping any leading/trailing whitespace\n",
    "df.columns = df.columns.str.strip()\n",
    "\n",
    "# Verify the columns again\n",
    "print(df.columns)\n"
   ]
  },
  {
   "cell_type": "code",
   "execution_count": 9,
   "id": "93dcc337-9c40-4be0-9f72-59e43367f7be",
   "metadata": {},
   "outputs": [
    {
     "name": "stdout",
     "output_type": "stream",
     "text": [
      "Index(['unnamed: 0', 'airline', 'flight', 'source_city', 'departure_time',\n",
      "       'stops', 'arrival_time', 'destination_city', 'class', 'duration',\n",
      "       'days_left', 'price'],\n",
      "      dtype='object')\n"
     ]
    }
   ],
   "source": [
    "# Standardize all column names to lowercase\n",
    "df.columns = df.columns.str.lower()\n",
    "\n",
    "# Verify the updated column names\n",
    "print(df.columns)\n"
   ]
  },
  {
   "cell_type": "code",
   "execution_count": 10,
   "id": "68795dde-fb9f-4b46-ad7a-1c2d502ec7aa",
   "metadata": {},
   "outputs": [
    {
     "name": "stdout",
     "output_type": "stream",
     "text": [
      "unnamed: 0          0\n",
      "airline             0\n",
      "flight              0\n",
      "source_city         0\n",
      "departure_time      0\n",
      "stops               0\n",
      "arrival_time        1\n",
      "destination_city    1\n",
      "class               1\n",
      "duration            1\n",
      "days_left           1\n",
      "price               1\n",
      "dtype: int64\n",
      "unnamed: 0            int64\n",
      "airline              object\n",
      "flight               object\n",
      "source_city          object\n",
      "departure_time       object\n",
      "stops                object\n",
      "arrival_time         object\n",
      "destination_city     object\n",
      "class                object\n",
      "duration            float64\n",
      "days_left           float64\n",
      "price               float64\n",
      "dtype: object\n",
      "         unnamed: 0      duration     days_left         price\n",
      "count  13448.000000  13447.000000  13447.000000  13447.000000\n",
      "mean    6723.500000      9.790704     21.936938   6863.001264\n",
      "std     3882.247545      7.005885     13.785874   4113.469784\n",
      "min        0.000000      2.000000      1.000000   2281.000000\n",
      "25%     3361.750000      4.250000     11.000000   3831.000000\n",
      "50%     6723.500000      8.000000     18.000000   5954.000000\n",
      "75%    10085.250000     13.420000     34.000000   9000.000000\n",
      "max    13447.000000     36.920000     49.000000  31917.000000\n",
      "   unnamed: 0   airline   flight source_city departure_time stops  \\\n",
      "0           0  SpiceJet  SG-8709       Delhi        Evening  zero   \n",
      "1           1  SpiceJet  SG-8157       Delhi  Early_Morning  zero   \n",
      "2           2   AirAsia   I5-764       Delhi  Early_Morning  zero   \n",
      "3           3   Vistara   UK-995       Delhi        Morning  zero   \n",
      "4           4   Vistara   UK-963       Delhi        Morning  zero   \n",
      "\n",
      "    arrival_time destination_city    class  duration  days_left   price  \n",
      "0          Night           Mumbai  Economy      2.17        1.0  5953.0  \n",
      "1        Morning           Mumbai  Economy      2.33        1.0  5953.0  \n",
      "2  Early_Morning           Mumbai  Economy      2.17        1.0  5956.0  \n",
      "3      Afternoon           Mumbai  Economy      2.25        1.0  5955.0  \n",
      "4        Morning           Mumbai  Economy      2.33        1.0  5955.0  \n",
      "['SpiceJet' 'AirAsia' 'Vistara' 'GO_FIRST' 'Indigo' 'Air_India']\n",
      "['Evening' 'Early_Morning' 'Morning' 'Afternoon' 'Night' 'Late_Night']\n"
     ]
    }
   ],
   "source": [
    "# Check for missing values\n",
    "print(df.isnull().sum())\n",
    "\n",
    "# Check data types of the columns\n",
    "print(df.dtypes)\n",
    "\n",
    "# Get descriptive statistics for numeric columns\n",
    "print(df.describe())\n",
    "\n",
    "# Preview the first few rows to check the data\n",
    "print(df.head())\n",
    "\n",
    "# Optional: Check for unique values in some columns to see if they need conversion\n",
    "print(df['airline'].unique())\n",
    "print(df['departure_time'].unique())\n"
   ]
  },
  {
   "cell_type": "code",
   "execution_count": 11,
   "id": "7cff2d98-2e3d-4bf4-9c37-356a813ae053",
   "metadata": {},
   "outputs": [
    {
     "name": "stdout",
     "output_type": "stream",
     "text": [
      "unnamed: 0          0\n",
      "airline             0\n",
      "flight              0\n",
      "source_city         0\n",
      "departure_time      0\n",
      "stops               0\n",
      "arrival_time        0\n",
      "destination_city    0\n",
      "class               0\n",
      "duration            0\n",
      "days_left           0\n",
      "price               1\n",
      "dtype: int64\n"
     ]
    }
   ],
   "source": [
    "# Handling missing values without using inplace=True to avoid warnings\n",
    "\n",
    "# Fill missing values in numerical columns with the median\n",
    "df['duration'] = df['duration'].fillna(df['duration'].median())\n",
    "df['days_left'] = df['days_left'].fillna(df['days_left'].median())\n",
    "\n",
    "# Fill missing values in categorical columns with the mode (most frequent value)\n",
    "df['arrival_time'] = df['arrival_time'].fillna(df['arrival_time'].mode()[0])\n",
    "df['destination_city'] = df['destination_city'].fillna(df['destination_city'].mode()[0])\n",
    "df['class'] = df['class'].fillna(df['class'].mode()[0])\n",
    "\n",
    "# Check for any remaining missing values\n",
    "print(df.isnull().sum())\n"
   ]
  },
  {
   "cell_type": "code",
   "execution_count": 12,
   "id": "674da568-fa0a-422c-b9fe-e23cf6d73987",
   "metadata": {},
   "outputs": [
    {
     "name": "stdout",
     "output_type": "stream",
     "text": [
      "unnamed: 0          0\n",
      "airline             0\n",
      "flight              0\n",
      "source_city         0\n",
      "departure_time      0\n",
      "stops               0\n",
      "arrival_time        0\n",
      "destination_city    0\n",
      "class               0\n",
      "duration            0\n",
      "days_left           0\n",
      "price               0\n",
      "dtype: int64\n"
     ]
    }
   ],
   "source": [
    "# Fill missing values in the 'price' column with the median value\n",
    "df['price'] = df['price'].fillna(df['price'].median())\n",
    "\n",
    "# Check if there are still any missing values\n",
    "print(df.isnull().sum())\n"
   ]
  },
  {
   "cell_type": "code",
   "execution_count": 13,
   "id": "8b568114-a67c-4441-9474-0a386253f83e",
   "metadata": {},
   "outputs": [
    {
     "name": "stdout",
     "output_type": "stream",
     "text": [
      "   unnamed: 0  airline  flight  source_city stops  destination_city  duration  \\\n",
      "0           0        4     276            0  zero                 1      2.17   \n",
      "1           1        4     266            0  zero                 1      2.33   \n",
      "2           2        0     237            0  zero                 1      2.17   \n",
      "3           3        5     332            0  zero                 1      2.25   \n",
      "4           4        5     326            0  zero                 1      2.33   \n",
      "\n",
      "   days_left   price  departure_time_Early_Morning  departure_time_Evening  \\\n",
      "0        1.0  5953.0                         False                    True   \n",
      "1        1.0  5953.0                          True                   False   \n",
      "2        1.0  5956.0                          True                   False   \n",
      "3        1.0  5955.0                         False                   False   \n",
      "4        1.0  5955.0                         False                   False   \n",
      "\n",
      "   departure_time_Late_Night  departure_time_Morning  departure_time_Night  \\\n",
      "0                      False                   False                 False   \n",
      "1                      False                   False                 False   \n",
      "2                      False                   False                 False   \n",
      "3                      False                    True                 False   \n",
      "4                      False                    True                 False   \n",
      "\n",
      "   arrival_time_Early_Morning  arrival_time_Evening  arrival_time_Late_Night  \\\n",
      "0                       False                 False                    False   \n",
      "1                       False                 False                    False   \n",
      "2                        True                 False                    False   \n",
      "3                       False                 False                    False   \n",
      "4                       False                 False                    False   \n",
      "\n",
      "   arrival_time_Morning  arrival_time_Night  \n",
      "0                 False                True  \n",
      "1                  True               False  \n",
      "2                 False               False  \n",
      "3                 False               False  \n",
      "4                  True               False  \n"
     ]
    }
   ],
   "source": [
    "from sklearn.preprocessing import LabelEncoder\n",
    "from sklearn.preprocessing import OneHotEncoder\n",
    "from sklearn.compose import ColumnTransformer\n",
    "from sklearn.pipeline import Pipeline\n",
    "\n",
    "# Initialize LabelEncoder\n",
    "label_encoder = LabelEncoder()\n",
    "\n",
    "# Apply Label Encoding for columns with fewer unique values\n",
    "df['airline'] = label_encoder.fit_transform(df['airline'])\n",
    "df['flight'] = label_encoder.fit_transform(df['flight'])\n",
    "df['source_city'] = label_encoder.fit_transform(df['source_city'])\n",
    "df['destination_city'] = label_encoder.fit_transform(df['destination_city'])\n",
    "\n",
    "# One-Hot Encoding for categorical features with more categories\n",
    "df = pd.get_dummies(df, columns=['departure_time', 'arrival_time', 'class'], drop_first=True)\n",
    "\n",
    "# Check the transformed dataset\n",
    "print(df.head())\n"
   ]
  },
  {
   "cell_type": "code",
   "execution_count": 14,
   "id": "723fa0eb-298c-47e3-8bfd-6b0f1f2f79b6",
   "metadata": {},
   "outputs": [
    {
     "name": "stdout",
     "output_type": "stream",
     "text": [
      "   unnamed: 0  airline  flight  source_city stops  destination_city  duration  \\\n",
      "0           0        4     276            0  zero                 1 -1.087817   \n",
      "1           1        4     266            0  zero                 1 -1.064977   \n",
      "2           2        0     237            0  zero                 1 -1.087817   \n",
      "3           3        5     332            0  zero                 1 -1.076397   \n",
      "4           4        5     326            0  zero                 1 -1.064977   \n",
      "\n",
      "   days_left     price  departure_time_Early_Morning  departure_time_Evening  \\\n",
      "0  -1.518811 -0.221224                         False                    True   \n",
      "1  -1.518811 -0.221224                          True                   False   \n",
      "2  -1.518811 -0.220495                          True                   False   \n",
      "3  -1.518811 -0.220738                         False                   False   \n",
      "4  -1.518811 -0.220738                         False                   False   \n",
      "\n",
      "   departure_time_Late_Night  departure_time_Morning  departure_time_Night  \\\n",
      "0                      False                   False                 False   \n",
      "1                      False                   False                 False   \n",
      "2                      False                   False                 False   \n",
      "3                      False                    True                 False   \n",
      "4                      False                    True                 False   \n",
      "\n",
      "   arrival_time_Early_Morning  arrival_time_Evening  arrival_time_Late_Night  \\\n",
      "0                       False                 False                    False   \n",
      "1                       False                 False                    False   \n",
      "2                        True                 False                    False   \n",
      "3                       False                 False                    False   \n",
      "4                       False                 False                    False   \n",
      "\n",
      "   arrival_time_Morning  arrival_time_Night  \n",
      "0                 False                True  \n",
      "1                  True               False  \n",
      "2                 False               False  \n",
      "3                 False               False  \n",
      "4                  True               False  \n"
     ]
    }
   ],
   "source": [
    "from sklearn.preprocessing import StandardScaler\n",
    "\n",
    "# Initialize StandardScaler\n",
    "scaler = StandardScaler()\n",
    "\n",
    "# Scale numerical features\n",
    "df[['duration', 'days_left', 'price']] = scaler.fit_transform(df[['duration', 'days_left', 'price']])\n",
    "\n",
    "# Check the scaled features\n",
    "print(df.head())\n"
   ]
  },
  {
   "cell_type": "code",
   "execution_count": 15,
   "id": "00c9a6aa-2b45-4560-9666-590005fd145e",
   "metadata": {},
   "outputs": [
    {
     "name": "stdout",
     "output_type": "stream",
     "text": [
      "(10758, 18) (2690, 18)\n"
     ]
    }
   ],
   "source": [
    "from sklearn.model_selection import train_test_split\n",
    "\n",
    "# Define the features and target variable\n",
    "X = df.drop(columns=['price'])\n",
    "y = df['price']\n",
    "\n",
    "# Split the data into training and testing sets\n",
    "X_train, X_test, y_train, y_test = train_test_split(X, y, test_size=0.2, random_state=42)\n",
    "\n",
    "# Check the split data\n",
    "print(X_train.shape, X_test.shape)\n"
   ]
  },
  {
   "cell_type": "code",
   "execution_count": 16,
   "id": "6576d8fa-4fc2-4082-b7b7-900d5cf97aa1",
   "metadata": {},
   "outputs": [],
   "source": [
    "# Convert categorical features to numeric using one-hot encoding\n",
    "df_encoded = pd.get_dummies(df, drop_first=True)\n",
    "\n",
    "# Define features and target\n",
    "X = df_encoded.drop(columns=['price'])\n",
    "y = df_encoded['price']\n",
    "\n",
    "# Now split the data\n",
    "from sklearn.model_selection import train_test_split\n",
    "X_train, X_test, y_train, y_test = train_test_split(X, y, test_size=0.2, random_state=42)\n"
   ]
  },
  {
   "cell_type": "code",
   "execution_count": 17,
   "id": "af846d4e-814c-4283-97cf-a57bd19bd7e5",
   "metadata": {},
   "outputs": [
    {
     "name": "stdout",
     "output_type": "stream",
     "text": [
      "Mean Absolute Error: 0.4555485986347448\n",
      "Mean Squared Error: 0.4135154483829169\n",
      "R² Score: 0.6030233142015469\n"
     ]
    }
   ],
   "source": [
    "from sklearn.linear_model import LinearRegression\n",
    "\n",
    "# Initialize the model\n",
    "model = LinearRegression()\n",
    "\n",
    "# Train the model\n",
    "model.fit(X_train, y_train)\n",
    "\n",
    "# Predict on the test data\n",
    "y_pred = model.predict(X_test)\n",
    "\n",
    "# Evaluate the model\n",
    "from sklearn.metrics import mean_absolute_error, mean_squared_error, r2_score\n",
    "\n",
    "mae = mean_absolute_error(y_test, y_pred)\n",
    "mse = mean_squared_error(y_test, y_pred)\n",
    "r2 = r2_score(y_test, y_pred)\n",
    "\n",
    "print(f'Mean Absolute Error: {mae}')\n",
    "print(f'Mean Squared Error: {mse}')\n",
    "print(f'R² Score: {r2}')\n"
   ]
  },
  {
   "cell_type": "code",
   "execution_count": 18,
   "id": "9655c174-3cf9-49f3-8365-412888474934",
   "metadata": {},
   "outputs": [],
   "source": [
    "from sklearn.preprocessing import StandardScaler\n",
    "\n",
    "scaler = StandardScaler()\n",
    "X_scaled = scaler.fit_transform(X)\n"
   ]
  },
  {
   "cell_type": "code",
   "execution_count": 19,
   "id": "e11f0af5-c7de-4dbd-90fd-f572c201533a",
   "metadata": {},
   "outputs": [],
   "source": [
    "X_train, X_test, y_train, y_test = train_test_split(X_scaled, y, test_size=0.2, random_state=42)\n"
   ]
  },
  {
   "cell_type": "code",
   "execution_count": 20,
   "id": "66831fca-7d4e-415c-a1d0-488345d62cad",
   "metadata": {},
   "outputs": [
    {
     "name": "stdout",
     "output_type": "stream",
     "text": [
      "Mean Absolute Error: 0.45554859863473407\n",
      "Mean Squared Error: 0.41351544838291737\n",
      "R² Score: 0.6030233142015464\n"
     ]
    }
   ],
   "source": [
    "from sklearn.preprocessing import StandardScaler\n",
    "from sklearn.model_selection import train_test_split\n",
    "from sklearn.linear_model import LinearRegression\n",
    "from sklearn.metrics import mean_absolute_error, mean_squared_error, r2_score\n",
    "\n",
    "# Scale the features\n",
    "scaler = StandardScaler()\n",
    "X_scaled = scaler.fit_transform(X)\n",
    "\n",
    "# Split the data\n",
    "X_train, X_test, y_train, y_test = train_test_split(X_scaled, y, test_size=0.2, random_state=42)\n",
    "\n",
    "# Train the model\n",
    "model = LinearRegression()\n",
    "model.fit(X_train, y_train)\n",
    "\n",
    "# Predict\n",
    "y_pred = model.predict(X_test)\n",
    "\n",
    "# Evaluate\n",
    "mae = mean_absolute_error(y_test, y_pred)\n",
    "mse = mean_squared_error(y_test, y_pred)\n",
    "r2 = r2_score(y_test, y_pred)\n",
    "\n",
    "print(\"Mean Absolute Error:\", mae)\n",
    "print(\"Mean Squared Error:\", mse)\n",
    "print(\"R² Score:\", r2)\n"
   ]
  },
  {
   "cell_type": "code",
   "execution_count": 21,
   "id": "1fcbee45-6e72-479f-8fb0-d3567b43cce2",
   "metadata": {},
   "outputs": [
    {
     "name": "stdout",
     "output_type": "stream",
     "text": [
      "Random Forest - MAE: 0.11715222630788229\n",
      "Random Forest - MSE: 0.08329534889610292\n",
      "Random Forest - R² Score: 0.9200360913322366\n"
     ]
    }
   ],
   "source": [
    "from sklearn.ensemble import RandomForestRegressor\n",
    "from sklearn.metrics import mean_absolute_error, mean_squared_error, r2_score\n",
    "\n",
    "# Initialize Random Forest\n",
    "rf_model = RandomForestRegressor(random_state=42)\n",
    "\n",
    "# Train\n",
    "rf_model.fit(X_train, y_train)\n",
    "\n",
    "# Predict\n",
    "y_pred_rf = rf_model.predict(X_test)\n",
    "\n",
    "# Evaluate\n",
    "mae = mean_absolute_error(y_test, y_pred_rf)\n",
    "mse = mean_squared_error(y_test, y_pred_rf)\n",
    "r2 = r2_score(y_test, y_pred_rf)\n",
    "\n",
    "print(f\"Random Forest - MAE: {mae}\")\n",
    "print(f\"Random Forest - MSE: {mse}\")\n",
    "print(f\"Random Forest - R² Score: {r2}\")\n"
   ]
  },
  {
   "cell_type": "code",
   "execution_count": null,
   "id": "137ca9b6-e336-4e67-b4d4-9804596d58bb",
   "metadata": {},
   "outputs": [
    {
     "name": "stdout",
     "output_type": "stream",
     "text": [
      "Fitting 3 folds for each of 50 candidates, totalling 150 fits\n"
     ]
    }
   ],
   "source": [
    "from sklearn.ensemble import RandomForestRegressor\n",
    "from sklearn.model_selection import RandomizedSearchCV\n",
    "from sklearn.metrics import mean_absolute_error, mean_squared_error, r2_score\n",
    "import numpy as np\n",
    "\n",
    "# Define the parameter grid\n",
    "param_dist = {\n",
    "    'n_estimators': [100, 200, 300, 500],\n",
    "    'max_depth': [None, 10, 20, 30, 50],\n",
    "    'min_samples_split': [2, 5, 10],\n",
    "    'min_samples_leaf': [1, 2, 4],\n",
    "    'bootstrap': [True, False]\n",
    "}\n",
    "\n",
    "# Initialize base model\n",
    "rf = RandomForestRegressor(random_state=42)\n",
    "\n",
    "# Setup RandomizedSearchCV\n",
    "random_search = RandomizedSearchCV(\n",
    "    estimator=rf,\n",
    "    param_distributions=param_dist,\n",
    "    n_iter=50,\n",
    "    cv=3,\n",
    "    verbose=2,\n",
    "    n_jobs=-1,\n",
    "    scoring='neg_mean_squared_error'\n",
    ")\n",
    "\n",
    "# Fit to training data\n",
    "random_search.fit(X_train, y_train)\n",
    "\n",
    "# Best model from search\n",
    "best_rf = random_search.best_estimator_\n",
    "\n",
    "# Predict on test data\n",
    "y_pred = best_rf.predict(X_test)\n",
    "\n",
    "# Evaluate\n",
    "mae = mean_absolute_error(y_test, y_pred)\n",
    "mse = mean_squared_error(y_test, y_pred)\n",
    "r2 = r2_score(y_test, y_pred)\n",
    "\n",
    "print(\"Tuned Random Forest - MAE:\", mae)\n",
    "print(\"Tuned Random Forest - MSE:\", mse)\n",
    "print(\"Tuned Random Forest - R² Score:\", r2)\n"
   ]
  },
  {
   "cell_type": "code",
   "execution_count": null,
   "id": "93bc9774-fb1d-482c-9291-9f6e0419c578",
   "metadata": {},
   "outputs": [],
   "source": [
    "best_random_forest = random_search.best_estimator_"
   ]
  },
  {
   "cell_type": "code",
   "execution_count": null,
   "id": "9fd9c52e-c892-47c7-a7d1-42adfea1df9e",
   "metadata": {},
   "outputs": [],
   "source": [
    "import joblib\n",
    "\n",
    "# Load current feature list\n",
    "feature_columns = joblib.load('model_features.pkl')\n",
    "\n",
    "# Convert to list so we can modify it\n",
    "feature_columns = list(feature_columns)\n",
    "\n",
    "# Remove unwanted columns\n",
    "for col in ['price', 'Unnamed: 0']:\n",
    "    if col in feature_columns:\n",
    "        feature_columns.remove(col)\n",
    "        print(f\"Removed: {col}\")\n",
    "\n",
    "# Save updated feature list\n",
    "joblib.dump(feature_columns, 'model_features.pkl')\n",
    "print(\"Updated feature list saved.\")\n",
    "\n"
   ]
  },
  {
   "cell_type": "code",
   "execution_count": null,
   "id": "46c786ba-6228-4bd2-8e4e-d3bc410e2249",
   "metadata": {},
   "outputs": [],
   "source": [
    "# Use regular NumPy indexing since X_test is a NumPy array\n",
    "sample_input = X_test[0].reshape(1, -1)  # Reshape to keep it 2D for the model\n",
    "\n",
    "# Predict the price using the best model\n",
    "predicted_price = best_random_forest.predict(sample_input)\n",
    "\n",
    "# Show the result\n",
    "print(f\"Predicted price: ₹{predicted_price[0]:,.2f}\")\n"
   ]
  },
  {
   "cell_type": "code",
   "execution_count": null,
   "id": "37566b5a-fb38-48dc-8f38-5af1ce279e1a",
   "metadata": {},
   "outputs": [],
   "source": [
    "import joblib\n",
    "\n",
    "# Save the best model\n",
    "joblib.dump(random_search.best_estimator_, 'best_random_forest_model.pkl')\n",
    "\n",
    "# Save the column names from the full dataset before splitting\n",
    "joblib.dump(df_encoded.columns, 'model_features.pkl')\n",
    "\n",
    "print(\"Model and feature columns saved successfully.\")\n"
   ]
  },
  {
   "cell_type": "code",
   "execution_count": null,
   "id": "228c8d55-98a2-4b47-970d-512d303056d4",
   "metadata": {},
   "outputs": [],
   "source": [
    "from sklearn.preprocessing import StandardScaler\n",
    "import joblib\n",
    "\n",
    "# Assume df is your final DataFrame\n",
    "X = df_encoded.drop(columns='price')\n",
    "y = df_encoded['price']\n",
    "\n",
    "# Scale y\n",
    "y_scaler = StandardScaler()\n",
    "y_scaled = y_scaler.fit_transform(y.values.reshape(-1, 1)).ravel()\n",
    "\n",
    "# Train/test split\n",
    "X_train, X_test, y_train, y_test = train_test_split(X, y_scaled, test_size=0.2, random_state=42)\n",
    "\n",
    "# Train model\n",
    "model = RandomForestRegressor(random_state=42)\n",
    "model.fit(X_train, y_train)\n",
    "\n",
    "# Save everything\n",
    "joblib.dump(model, 'best_random_forest_model.pkl')\n",
    "joblib.dump(y_scaler, 'y_scaler.pkl')\n",
    "joblib.dump(X_train.columns.tolist(), 'model_features.pkl')\n"
   ]
  },
  {
   "cell_type": "code",
   "execution_count": 1,
   "id": "89e6e1f1-3b88-4b18-b112-3e7766b53310",
   "metadata": {},
   "outputs": [
    {
     "name": "stdout",
     "output_type": "stream",
     "text": [
      "MAE: 783.9890520578872\n",
      "✅ Model, scaler, and features saved.\n"
     ]
    }
   ],
   "source": [
    "import pandas as pd\n",
    "import numpy as np\n",
    "from sklearn.model_selection import train_test_split\n",
    "from sklearn.preprocessing import StandardScaler\n",
    "from sklearn.ensemble import RandomForestRegressor\n",
    "from sklearn.metrics import mean_absolute_error, mean_squared_error, r2_score\n",
    "import joblib\n",
    "\n",
    "# Load and clean data\n",
    "df = pd.read_csv(\"Clean_Dataset.csv\")\n",
    "df.drop(columns=['Unnamed: 0', 'flight'], inplace=True, errors='ignore')\n",
    "\n",
    "# Encode categorical columns\n",
    "df_encoded = pd.get_dummies(df, drop_first=True)\n",
    "\n",
    "# Drop rows where price is NaN (to ensure y is clean)\n",
    "df_encoded.dropna(subset=['price'], inplace=True)\n",
    "\n",
    "# Features and target\n",
    "X = df_encoded.drop(columns=['price'])\n",
    "y = df_encoded['price']\n",
    "\n",
    "# Save feature columns\n",
    "joblib.dump(X.columns.tolist(), 'model_features.pkl')\n",
    "\n",
    "# Scale\n",
    "scaler = StandardScaler()\n",
    "X_scaled = scaler.fit_transform(X)\n",
    "\n",
    "y_scaler = StandardScaler()\n",
    "y_scaled = y_scaler.fit_transform(y.values.reshape(-1, 1))\n",
    "\n",
    "# Train/test split\n",
    "X_train, X_test, y_train, y_test = train_test_split(X_scaled, y_scaled, test_size=0.2, random_state=42)\n",
    "\n",
    "# Train model\n",
    "model = RandomForestRegressor(random_state=42)\n",
    "model.fit(X_train, y_train.ravel())\n",
    "\n",
    "# Save model and scalers\n",
    "joblib.dump(model, 'best_random_forest_model.pkl')\n",
    "joblib.dump(scaler, 'scaler.pkl')\n",
    "joblib.dump(y_scaler, 'y_scaler.pkl')\n",
    "\n",
    "# Evaluate\n",
    "y_pred = model.predict(X_test)\n",
    "y_pred_actual = y_scaler.inverse_transform(y_pred.reshape(-1, 1))\n",
    "y_test_actual = y_scaler.inverse_transform(y_test.reshape(-1, 1))\n",
    "\n",
    "print(\"MAE:\", mean_absolute_error(y_test_actual, y_pred_actual))\n",
    "print(\"✅ Model, scaler, and features saved.\")\n",
    "\n"
   ]
  },
  {
   "cell_type": "code",
   "execution_count": null,
   "id": "ef4566a0-4e57-47b3-a4ae-16b0a29b3089",
   "metadata": {},
   "outputs": [],
   "source": []
  }
 ],
 "metadata": {
  "kernelspec": {
   "display_name": "Python 3 (ipykernel)",
   "language": "python",
   "name": "python3"
  },
  "language_info": {
   "codemirror_mode": {
    "name": "ipython",
    "version": 3
   },
   "file_extension": ".py",
   "mimetype": "text/x-python",
   "name": "python",
   "nbconvert_exporter": "python",
   "pygments_lexer": "ipython3",
   "version": "3.11.2"
  }
 },
 "nbformat": 4,
 "nbformat_minor": 5
}
