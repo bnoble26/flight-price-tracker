{
 "cells": [
  {
   "cell_type": "code",
   "execution_count": 8,
   "id": "9e1b3ed6-c74f-42f3-97ba-8fe0de02ad50",
   "metadata": {},
   "outputs": [
    {
     "name": "stdout",
     "output_type": "stream",
     "text": [
      "MAE: 479.567903345725\n",
      "MSE: 1523491.1659101115\n",
      "R²: 0.9130988760613329\n",
      "\n",
      "✅ Predicted flight price: ₹10,681.16\n"
     ]
    }
   ],
   "source": [
    "import pandas as pd\n",
    "import numpy as np\n",
    "from sklearn.model_selection import train_test_split\n",
    "from sklearn.ensemble import RandomForestRegressor\n",
    "from sklearn.metrics import mean_absolute_error, mean_squared_error, r2_score\n",
    "\n",
    "# STEP 1: Load your dataset\n",
    "df = pd.read_csv(\"Clean_Dataset.csv\")  # Replace with your actual file name\n",
    "\n",
    "# STEP 2: Drop rows where 'price' is missing\n",
    "df = df.dropna(subset=['price'])\n",
    "\n",
    "# STEP 3: One-hot encode categorical features\n",
    "df_encoded = pd.get_dummies(df, drop_first=True)\n",
    "\n",
    "# STEP 4: Separate features and target\n",
    "X = df_encoded.drop(columns='price')\n",
    "y = df_encoded['price']\n",
    "\n",
    "# STEP 5: Train-test split\n",
    "X_train, X_test, y_train, y_test = train_test_split(X, y, test_size=0.2, random_state=42)\n",
    "\n",
    "# STEP 6: Train the model\n",
    "model = RandomForestRegressor(random_state=42)\n",
    "model.fit(X_train, y_train)\n",
    "\n",
    "# STEP 7: Evaluate the model\n",
    "y_pred = model.predict(X_test)\n",
    "print(\"MAE:\", mean_absolute_error(y_test, y_pred))\n",
    "print(\"MSE:\", mean_squared_error(y_test, y_pred))\n",
    "print(\"R²:\", r2_score(y_test, y_pred))\n",
    "\n",
    "# STEP 8: Predict on a real sample input\n",
    "sample_input = X_test.iloc[0:1]\n",
    "predicted_price = model.predict(sample_input)[0]\n",
    "print(f\"\\n✅ Predicted flight price: ₹{predicted_price:,.2f}\")\n"
   ]
  },
  {
   "cell_type": "code",
   "execution_count": 10,
   "id": "78b7d75b-fd36-45e6-84dc-52cd8756fc3c",
   "metadata": {},
   "outputs": [
    {
     "name": "stdout",
     "output_type": "stream",
     "text": [
      "MAE: 0.15649433129255028\n",
      "MSE: 0.14563837372540642\n",
      "R²: 0.8594452267436237\n",
      "✅ Model, scaler, and features saved successfully.\n"
     ]
    }
   ],
   "source": [
    "# STEP 1: Imports\n",
    "import pandas as pd\n",
    "from sklearn.model_selection import train_test_split\n",
    "from sklearn.preprocessing import StandardScaler\n",
    "from sklearn.ensemble import RandomForestRegressor\n",
    "from sklearn.metrics import mean_absolute_error, mean_squared_error, r2_score\n",
    "import joblib\n",
    "\n",
    "# STEP 2: Load and prepare data\n",
    "df = pd.read_csv('Clean_Dataset.csv')\n",
    "df.drop(columns=['Unnamed: 0'], inplace=True, errors='ignore')\n",
    "df.dropna(inplace=True)  # Ensure no NaNs\n",
    "\n",
    "# STEP 3: Encode categorical features\n",
    "df_encoded = pd.get_dummies(df, drop_first=True)\n",
    "\n",
    "# STEP 4: Split into features and target\n",
    "X = df_encoded.drop(columns='price')\n",
    "y = df_encoded['price']\n",
    "\n",
    "# STEP 5: Scale the target\n",
    "y_scaler = StandardScaler()\n",
    "y_scaled = y_scaler.fit_transform(y.values.reshape(-1, 1)).ravel()\n",
    "\n",
    "# STEP 6: Split data\n",
    "X_train, X_test, y_train, y_test = train_test_split(X, y_scaled, test_size=0.2, random_state=42)\n",
    "\n",
    "# STEP 7: Train model\n",
    "model = RandomForestRegressor(random_state=42)\n",
    "model.fit(X_train, y_train)\n",
    "\n",
    "# STEP 8: Evaluate\n",
    "y_pred = model.predict(X_test)\n",
    "print(\"MAE:\", mean_absolute_error(y_test, y_pred))\n",
    "print(\"MSE:\", mean_squared_error(y_test, y_pred))\n",
    "print(\"R²:\", r2_score(y_test, y_pred))\n",
    "\n",
    "# STEP 9: Save model, features, and y_scaler\n",
    "joblib.dump(model, 'best_random_forest_model.pkl')\n",
    "joblib.dump(y_scaler, 'y_scaler.pkl')\n",
    "joblib.dump(X.columns.tolist(), 'model_features.pkl')  # Ensure prediction matches feature order\n",
    "\n",
    "print(\"✅ Model, scaler, and features saved successfully.\")\n"
   ]
  },
  {
   "cell_type": "code",
   "execution_count": null,
   "id": "34e9857a-4b7d-4f47-b77e-d5275c302366",
   "metadata": {},
   "outputs": [],
   "source": []
  }
 ],
 "metadata": {
  "kernelspec": {
   "display_name": "Python 3 (ipykernel)",
   "language": "python",
   "name": "python3"
  },
  "language_info": {
   "codemirror_mode": {
    "name": "ipython",
    "version": 3
   },
   "file_extension": ".py",
   "mimetype": "text/x-python",
   "name": "python",
   "nbconvert_exporter": "python",
   "pygments_lexer": "ipython3",
   "version": "3.11.2"
  }
 },
 "nbformat": 4,
 "nbformat_minor": 5
}
