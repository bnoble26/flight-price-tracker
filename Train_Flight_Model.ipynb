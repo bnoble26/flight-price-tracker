{
 "cells": [
  {
   "cell_type": "code",
   "execution_count": 1,
   "id": "ebb09185-1fda-47b1-8aa5-eae4ac9e2e6c",
   "metadata": {},
   "outputs": [
    {
     "name": "stdout",
     "output_type": "stream",
     "text": [
      "MAE: 132.8290124999999\n",
      "R²: 0.07126832507115433\n"
     ]
    },
    {
     "data": {
      "text/plain": [
       "['backpacker_features.pkl']"
      ]
     },
     "execution_count": 1,
     "metadata": {},
     "output_type": "execute_result"
    }
   ],
   "source": [
    "import pandas as pd\n",
    "import numpy as np\n",
    "from sklearn.ensemble import RandomForestRegressor\n",
    "from sklearn.model_selection import train_test_split\n",
    "from sklearn.preprocessing import StandardScaler\n",
    "from sklearn.metrics import mean_absolute_error, r2_score\n",
    "import joblib\n",
    "import re\n",
    "\n",
    "# Load CSV\n",
    "df = pd.read_csv(\"flight_prices.csv\")\n",
    "\n",
    "# Convert ISO duration (e.g. PT10H30M) to float hours\n",
    "def convert_duration(d):\n",
    "    h = re.search(r'(\\d+)H', d)\n",
    "    m = re.search(r'(\\d+)M', d)\n",
    "    hours = int(h.group(1)) if h else 0\n",
    "    mins = int(m.group(1)) if m else 0\n",
    "    return round(hours + mins / 60, 2)\n",
    "\n",
    "df[\"duration\"] = df[\"duration\"].apply(convert_duration)\n",
    "\n",
    "# Convert stops to text\n",
    "df[\"stops\"] = df[\"stops\"].map({0: \"zero\", 1: \"one\", 2: \"two_or_more\"}).fillna(\"two_or_more\")\n",
    "\n",
    "# Features\n",
    "X = df[[\"origin\", \"destination\", \"flight_date\", \"class\", \"duration\", \"stops\"]].copy()\n",
    "X[\"days_left\"] = (pd.to_datetime(df[\"flight_date\"]) - pd.to_datetime(df[\"date_collected\"])).dt.days\n",
    "y = df[\"price_usd\"]\n",
    "\n",
    "# One-hot encode\n",
    "X = pd.get_dummies(X)\n",
    "\n",
    "# Normalize\n",
    "scaler = StandardScaler()\n",
    "X_scaled = scaler.fit_transform(X)\n",
    "\n",
    "# Train/test split\n",
    "X_train, X_test, y_train, y_test = train_test_split(X_scaled, y, test_size=0.2, random_state=42)\n",
    "\n",
    "# Model\n",
    "model = RandomForestRegressor(n_estimators=100, random_state=42)\n",
    "model.fit(X_train, y_train)\n",
    "\n",
    "# Evaluate\n",
    "y_pred = model.predict(X_test)\n",
    "print(\"MAE:\", mean_absolute_error(y_test, y_pred))\n",
    "print(\"R²:\", r2_score(y_test, y_pred))\n",
    "\n",
    "# Save\n",
    "joblib.dump(model, \"backpacker_model.pkl\")\n",
    "joblib.dump(scaler, \"backpacker_scaler.pkl\")\n",
    "joblib.dump(X.columns.tolist(), \"backpacker_features.pkl\")\n"
   ]
  },
  {
   "cell_type": "code",
   "execution_count": null,
   "id": "c62b5a16-d327-4dbe-b4d7-cfb2d9c5a487",
   "metadata": {},
   "outputs": [],
   "source": []
  }
 ],
 "metadata": {
  "kernelspec": {
   "display_name": "Python 3 (ipykernel)",
   "language": "python",
   "name": "python3"
  },
  "language_info": {
   "codemirror_mode": {
    "name": "ipython",
    "version": 3
   },
   "file_extension": ".py",
   "mimetype": "text/x-python",
   "name": "python",
   "nbconvert_exporter": "python",
   "pygments_lexer": "ipython3",
   "version": "3.11.2"
  }
 },
 "nbformat": 4,
 "nbformat_minor": 5
}
